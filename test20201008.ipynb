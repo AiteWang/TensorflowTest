{
  "nbformat": 4,
  "nbformat_minor": 0,
  "metadata": {
    "colab": {
      "name": "test20201008.ipynb",
      "provenance": [],
      "collapsed_sections": [],
      "authorship_tag": "ABX9TyMM76d4KAbQSUjqTq80KGEi",
      "include_colab_link": true
    },
    "kernelspec": {
      "name": "python3",
      "display_name": "Python 3"
    }
  },
  "cells": [
    {
      "cell_type": "markdown",
      "metadata": {
        "id": "view-in-github",
        "colab_type": "text"
      },
      "source": [
        "<a href=\"https://colab.research.google.com/github/AiteWang/TensorflowTest/blob/main/test20201008.ipynb\" target=\"_parent\"><img src=\"https://colab.research.google.com/assets/colab-badge.svg\" alt=\"Open In Colab\"/></a>"
      ]
    },
    {
      "cell_type": "code",
      "metadata": {
        "id": "JJtsRVuNWXSO",
        "outputId": "34b0178a-4569-48b4-fec5-e465e74083af",
        "colab": {
          "base_uri": "https://localhost:8080/",
          "height": 35
        }
      },
      "source": [
        "#tensorflow框架keras神经网络\n",
        "import tensorflow as tf\n",
        "from keras.layers import Flatten\n",
        "#测试MNIST手写数据集\n",
        "\n",
        "mnist = tf.keras.datasets.mnist\n",
        "\n",
        "(x_train, y_train), (x_test, y_test) = mnist.load_data()\n",
        "#将样本从整数（0-255）转成浮点数（0.0-1.0）\n",
        "#print(x_train, x_test)\n",
        "x_train, x_test = x_train / 255.0, x_test / 255.0\n",
        "#print(x_train, x_test)\n",
        "print(x_train.shape)#60000,(28, 28)\n",
        "\n",
        "#搭建Sequential模型\n",
        "model = tf.keras.models.Sequential()\n",
        "#layers 添加到模型里的可选列\n",
        "'''\n",
        "Dense  全连接层\n",
        "model.add(Dense(32, input_shape=(16,)))\n",
        "# 现在模型就会以尺寸为 (*, 16) 的数组作为输入，\n",
        "# 其输出数组的尺寸为 (*, 32)\n",
        "'''\n",
        "model.add(tf.keras.layers.Flatten(input_shape=(28, 28)))\n",
        "\n"
      ],
      "execution_count": null,
      "outputs": [
        {
          "output_type": "stream",
          "text": [
            "(60000, 28, 28)\n"
          ],
          "name": "stdout"
        }
      ]
    }
  ]
}