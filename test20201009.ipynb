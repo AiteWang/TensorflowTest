{
  "nbformat": 4,
  "nbformat_minor": 0,
  "metadata": {
    "colab": {
      "name": "test20201009.ipynb",
      "provenance": [],
      "collapsed_sections": [],
      "authorship_tag": "ABX9TyO8RaqRF3JzwmVc1xNKGO1s",
      "include_colab_link": true
    },
    "kernelspec": {
      "name": "python3",
      "display_name": "Python 3"
    }
  },
  "cells": [
    {
      "cell_type": "markdown",
      "metadata": {
        "id": "view-in-github",
        "colab_type": "text"
      },
      "source": [
        "<a href=\"https://colab.research.google.com/github/AiteWang/TensorflowTest/blob/main/test20201009.ipynb\" target=\"_parent\"><img src=\"https://colab.research.google.com/assets/colab-badge.svg\" alt=\"Open In Colab\"/></a>"
      ]
    },
    {
      "cell_type": "code",
      "metadata": {
        "id": "JJtsRVuNWXSO",
        "outputId": "ef3793a2-91f3-4bed-cc1b-fce4e0099b40",
        "colab": {
          "base_uri": "https://localhost:8080/",
          "height": 251
        }
      },
      "source": [
        "#tensorflow框架keras神经网络\n",
        "import tensorflow as tf\n",
        "from keras.layers import Flatten\n",
        "#测试MNIST手写数据集\n",
        "\n",
        "mnist = tf.keras.datasets.mnist\n",
        "\n",
        "(x_train, y_train), (x_test, y_test) = mnist.load_data()\n",
        "#将样本从整数（0-255）转成浮点数（0.0-1.0）\n",
        "#print(x_train, x_test)\n",
        "x_train, x_test = x_train / 255.0, x_test / 255.0\n",
        "#print(x_train, x_test)\n",
        "print(x_train.shape)#60000,(28, 28)\n",
        "\n",
        "#搭建Sequential模型\n",
        "model = tf.keras.models.Sequential()\n",
        "#layers 添加到模型里的可选列\n",
        "'''\n",
        "Dense  全连接层\n",
        "model.add(Dense(32, input_shape=(16,)))\n",
        "# 现在模型就会以尺寸为 (*, 16) 的数组作为输入，\n",
        "# 其输出数组的尺寸为 (*, 32)\n",
        "'''\n",
        "model.add(tf.keras.layers.Flatten(input_shape=(28, 28)))\n",
        "model.add(tf.keras.layers.Dense(128, activation='relu'))\n",
        "model.add(tf.keras.layers.Dropout(0.2))\n",
        "model.add(tf.keras.layers.Dense(10, activation='softmax'))\n",
        "\n",
        "\n",
        "#配置训练模型\n",
        "model.compile(optimizer='adam', loss='sparse_categorical_crossentropy', metrics=['accuracy'])\n",
        "\n",
        "model.fit(x_train, y_train, epochs=5)\n",
        "model.evaluate(x_test, y_test, verbose=2)\n",
        "\n",
        "\n"
      ],
      "execution_count": 3,
      "outputs": [
        {
          "output_type": "stream",
          "text": [
            "(60000, 28, 28)\n",
            "Epoch 1/5\n",
            "1875/1875 [==============================] - 3s 2ms/step - loss: 0.2945 - accuracy: 0.9141\n",
            "Epoch 2/5\n",
            "1875/1875 [==============================] - 3s 2ms/step - loss: 0.1449 - accuracy: 0.9571\n",
            "Epoch 3/5\n",
            "1875/1875 [==============================] - 3s 2ms/step - loss: 0.1082 - accuracy: 0.9671\n",
            "Epoch 4/5\n",
            "1875/1875 [==============================] - 3s 2ms/step - loss: 0.0893 - accuracy: 0.9723\n",
            "Epoch 5/5\n",
            "1875/1875 [==============================] - 3s 2ms/step - loss: 0.0742 - accuracy: 0.9766\n",
            "313/313 - 0s - loss: 0.0797 - accuracy: 0.9755\n"
          ],
          "name": "stdout"
        },
        {
          "output_type": "execute_result",
          "data": {
            "text/plain": [
              "[0.07965878397226334, 0.9754999876022339]"
            ]
          },
          "metadata": {
            "tags": []
          },
          "execution_count": 3
        }
      ]
    }
  ]
}